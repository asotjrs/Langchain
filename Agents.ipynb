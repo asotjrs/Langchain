{
  "cells": [
    {
      "cell_type": "markdown",
      "metadata": {
        "id": "view-in-github",
        "colab_type": "text"
      },
      "source": [
        "<a href=\"https://colab.research.google.com/github/asotjrs/Langchain/blob/main/Agents.ipynb\" target=\"_parent\"><img src=\"https://colab.research.google.com/assets/colab-badge.svg\" alt=\"Open In Colab\"/></a>"
      ]
    },
    {
      "cell_type": "markdown",
      "id": "5170bf5b",
      "metadata": {
        "id": "5170bf5b"
      },
      "source": [
        "# Agents - Make OpenAI Do Things For you"
      ]
    },
    {
      "cell_type": "code",
      "execution_count": null,
      "id": "7f247903",
      "metadata": {
        "id": "7f247903"
      },
      "outputs": [],
      "source": [
        "from langchain.agents import load_tools\n",
        "from langchain.agents import initialize_agent\n",
        "from langchain.llms import OpenAI"
      ]
    },
    {
      "cell_type": "markdown",
      "id": "83032dcf",
      "metadata": {
        "id": "83032dcf"
      },
      "source": [
        "### 2. SERP API"
      ]
    },
    {
      "cell_type": "code",
      "execution_count": null,
      "id": "0c90ba74",
      "metadata": {
        "id": "0c90ba74"
      },
      "outputs": [],
      "source": [
        "from langchain.agents import load_tools\n",
        "\n",
        "# import os\n",
        "# os.environ['OPENAI_API_KEY'] = \"...\"\n",
        "# os.environ['SERPAPI_API_KEY'] = \"...\""
      ]
    },
    {
      "cell_type": "code",
      "execution_count": null,
      "id": "d0f2fd44",
      "metadata": {
        "id": "d0f2fd44"
      },
      "outputs": [],
      "source": [
        "llm = OpenAI(temperature=0) # 0 to keep geting the same results everytime"
      ]
    },
    {
      "cell_type": "code",
      "execution_count": null,
      "id": "f26a0dd5",
      "metadata": {
        "id": "f26a0dd5"
      },
      "outputs": [],
      "source": [
        "tool_names = [\"serpapi\"]\n",
        "tools = load_tools(tool_names)"
      ]
    },
    {
      "cell_type": "code",
      "execution_count": null,
      "id": "e8a35518",
      "metadata": {
        "id": "e8a35518"
      },
      "outputs": [],
      "source": [
        "agent = initialize_agent(tools, llm, agent=\"zero-shot-react-description\", verbose=True) # there is other agents "
      ]
    },
    {
      "cell_type": "code",
      "execution_count": null,
      "id": "829a2d67",
      "metadata": {
        "id": "829a2d67",
        "outputId": "804f761d-bc5e-4cf3-db5a-f6c9a67be7e4"
      },
      "outputs": [
        {
          "data": {
            "text/plain": [
              "'LangChain is a platform that provides a standard interface for chains, lots of integrations with other tools, and end-to-end chains for common applications. Data Augmented Reality (DAR) is also supported.'"
            ]
          },
          "execution_count": 66,
          "metadata": {},
          "output_type": "execute_result"
        }
      ],
      "source": [
        "agent.run(\"What is LangChain?\")"
      ]
    },
    {
      "cell_type": "code",
      "execution_count": null,
      "id": "b4cc45f6",
      "metadata": {
        "id": "b4cc45f6",
        "outputId": "8529f069-dd4f-4397-a5c8-0883cb997b58"
      },
      "outputs": [
        {
          "data": {
            "text/plain": [
              "'Luke Voiles is the CEO of Pipe.'"
            ]
          },
          "execution_count": 67,
          "metadata": {},
          "output_type": "execute_result"
        }
      ],
      "source": [
        "# Input should be a search query.\n",
        "agent.run(\"who is the ceo of pipe?\") #in reality : chatGPT will give the ceo back to sep 2021 , cut after connecting it to google it will discover who he is"
      ]
    },
    {
      "cell_type": "markdown",
      "id": "1869cabc",
      "metadata": {
        "id": "1869cabc"
      },
      "source": [
        "### 3. Wolfram Alpha"
      ]
    },
    {
      "cell_type": "code",
      "execution_count": null,
      "id": "0fd02098",
      "metadata": {
        "id": "0fd02098"
      },
      "outputs": [],
      "source": [
        "from langchain.agents import load_tools\n",
        "\n",
        "# import os\n",
        "# pip install wolframalpha\n",
        "# os.environ['OPENAI_API_KEY'] = \"...\"\n",
        "# os.environ['WOLFRAM_ALPHA_APPID'] = \"..\""
      ]
    },
    {
      "cell_type": "code",
      "execution_count": null,
      "id": "7a96dfdd",
      "metadata": {
        "id": "7a96dfdd"
      },
      "outputs": [],
      "source": [
        "llm = OpenAI(temperature=0)"
      ]
    },
    {
      "cell_type": "code",
      "execution_count": null,
      "id": "1ba4200b",
      "metadata": {
        "id": "1ba4200b"
      },
      "outputs": [],
      "source": [
        "tool_names = [\"wolfram-alpha\"]\n",
        "tools = load_tools(tool_names)"
      ]
    },
    {
      "cell_type": "code",
      "execution_count": null,
      "id": "4716e3a8",
      "metadata": {
        "id": "4716e3a8"
      },
      "outputs": [],
      "source": [
        "agent = initialize_agent(tools, llm, agent=\"zero-shot-react-description\", verbose=True)"
      ]
    },
    {
      "cell_type": "code",
      "execution_count": null,
      "id": "89e0d255",
      "metadata": {
        "id": "89e0d255",
        "outputId": "77b921ca-cd8f-4f14-c458-0cd29555a8e4"
      },
      "outputs": [
        {
          "data": {
            "text/plain": [
              "'The asthenosphere is the lower layer of the crust.'"
            ]
          },
          "execution_count": 75,
          "metadata": {},
          "output_type": "execute_result"
        }
      ],
      "source": [
        "# Input should be a search query.\n",
        "\n",
        "agent.run(\"What is the asthenosphere?\")"
      ]
    },
    {
      "cell_type": "code",
      "execution_count": null,
      "id": "86c98c29",
      "metadata": {
        "id": "86c98c29"
      },
      "outputs": [],
      "source": []
    }
  ],
  "metadata": {
    "kernelspec": {
      "display_name": "Python 3 (ipykernel)",
      "language": "python",
      "name": "python3"
    },
    "language_info": {
      "codemirror_mode": {
        "name": "ipython",
        "version": 3
      },
      "file_extension": ".py",
      "mimetype": "text/x-python",
      "name": "python",
      "nbconvert_exporter": "python",
      "pygments_lexer": "ipython3",
      "version": "3.9.13"
    },
    "colab": {
      "provenance": [],
      "include_colab_link": true
    }
  },
  "nbformat": 4,
  "nbformat_minor": 5
}